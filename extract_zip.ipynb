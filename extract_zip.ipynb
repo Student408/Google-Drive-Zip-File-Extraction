{
  "nbformat": 4,
  "nbformat_minor": 0,
  "metadata": {
    "colab": {
      "provenance": []
    },
    "kernelspec": {
      "name": "python3",
      "display_name": "Python 3"
    },
    "language_info": {
      "name": "python"
    }
  },
  "cells": [
    {
      "cell_type": "code",
      "execution_count": null,
      "metadata": {
        "id": "s6Osh86oMJsn"
      },
      "outputs": [],
      "source": [
        "from google.colab import drive\n",
        "drive.mount('/content/drive')"
      ]
    },
    {
      "cell_type": "markdown",
      "source": [
        "# **Function to extract files from a zip archive**"
      ],
      "metadata": {
        "id": "mPMkvWE6Rvjg"
      }
    },
    {
      "cell_type": "code",
      "source": [
        "import zipfile\n",
        "from tqdm import tqdm\n",
        "\n",
        "# Define a function to extract files from a zip archive with progress tracking\n",
        "def extract_with_progress(zip_file, extract_path):\n",
        "    \"\"\"\n",
        "    Extracts files from a zip archive to a specified directory with progress tracking.\n",
        "\n",
        "    Args:\n",
        "        zip_file (str): Path to the zip file.\n",
        "        extract_path (str): Path to the directory where files will be extracted.\n",
        "    \"\"\"\n",
        "    with zipfile.ZipFile(zip_file, 'r') as zip_ref:\n",
        "        # Get the total number of files in the zip\n",
        "        total_files = len(zip_ref.infolist())\n",
        "\n",
        "        # Iterate over each file and extract with progress bar\n",
        "        for file in tqdm(zip_ref.infolist(), desc='Extracting', unit='files', total=total_files):\n",
        "            zip_ref.extract(file, extract_path)"
      ],
      "metadata": {
        "id": "wKPGXTBbMTb_"
      },
      "execution_count": 2,
      "outputs": []
    },
    {
      "cell_type": "markdown",
      "source": [
        "# **Enter the path to the zip file and the extraction directory**"
      ],
      "metadata": {
        "id": "gu-iWMmPSFjQ"
      }
    },
    {
      "cell_type": "code",
      "source": [
        "# Prompt the user to enter the path to the zip file and the extraction directory\n",
        "print(\"Please provide the path to the zip file and the extraction directory.\")\n",
        "print(\"Example zip file path: '/content/drive/My Drive/example_folder/example.zip'\")\n",
        "zip_file_path = input(\"Enter the path to the zip file: \")\n",
        "\n",
        "print(\"Example extraction directory path: '/content/drive/My Drive/example_folder'\")\n",
        "extract_path = input(\"Enter the path to the extraction directory: \")\n",
        "\n",
        "# Call the function to extract with progress tracking\n",
        "extract_with_progress(zip_file_path, extract_path)"
      ],
      "metadata": {
        "id": "1dBlX2iNMYtf"
      },
      "execution_count": null,
      "outputs": []
    },
    {
      "cell_type": "markdown",
      "source": [
        "# **Count the total number of folders and files in the specific directory**"
      ],
      "metadata": {
        "id": "XEpz8PNoSOKn"
      }
    },
    {
      "cell_type": "code",
      "source": [
        "import os\n",
        "\n",
        "def count_files_and_folders(directory):\n",
        "    file_count = 0\n",
        "    folder_count = 0\n",
        "\n",
        "    for root, dirs, files in os.walk(directory):\n",
        "        folder_count += len(dirs)\n",
        "        file_count += len(files)\n",
        "\n",
        "    return file_count, folder_count\n",
        "\n",
        "# Prompt user for directory path\n",
        "print(\"Example extraction directory path: '/content/drive/My Drive/example_folder'\")\n",
        "directory = input(\"Please enter the directory path: \")\n",
        "\n",
        "# Ensure the directory exists\n",
        "if os.path.exists(directory):\n",
        "    file_count, folder_count = count_files_and_folders(directory)\n",
        "    print(f\"Total files: {file_count}\")\n",
        "    print(f\"Total folders: {folder_count}\")\n",
        "else:\n",
        "    print(\"The provided directory path does not exist. Please check and try again.\")\n"
      ],
      "metadata": {
        "colab": {
          "base_uri": "https://localhost:8080/"
        },
        "id": "bFj8qf8ORGt8",
        "outputId": "d1905e30-6cb5-4e2e-cc7b-7c5b6422c668"
      },
      "execution_count": 11,
      "outputs": [
        {
          "output_type": "stream",
          "name": "stdout",
          "text": [
            "Example extraction directory path: '/content/drive/My Drive/example_folder'\n",
            "Please enter the directory path: /content/drive/My Drive/skin_cancer_dataset/ISIC_Training_Input\n",
            "Total files: 18389\n",
            "Total folders: 15\n"
          ]
        }
      ]
    }
  ]
}