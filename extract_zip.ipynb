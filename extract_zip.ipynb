{
  "nbformat": 4,
  "nbformat_minor": 0,
  "metadata": {
    "colab": {
      "provenance": []
    },
    "kernelspec": {
      "name": "python3",
      "display_name": "Python 3"
    },
    "language_info": {
      "name": "python"
    }
  },
  "cells": [
    {
      "cell_type": "code",
      "execution_count": 1,
      "metadata": {
        "colab": {
          "base_uri": "https://localhost:8080/"
        },
        "id": "s6Osh86oMJsn",
        "outputId": "d9e82d46-3084-4925-e6e6-106b2fea0ed1"
      },
      "outputs": [
        {
          "output_type": "stream",
          "name": "stdout",
          "text": [
            "Mounted at /content/drive\n"
          ]
        }
      ],
      "source": [
        "from google.colab import drive\n",
        "drive.mount('/content/drive')"
      ]
    },
    {
      "cell_type": "code",
      "source": [
        "import zipfile\n",
        "from tqdm import tqdm\n",
        "\n",
        "# Define a function to extract files from a zip archive with progress tracking\n",
        "def extract_with_progress(zip_file, extract_path):\n",
        "    \"\"\"\n",
        "    Extracts files from a zip archive to a specified directory with progress tracking.\n",
        "\n",
        "    Args:\n",
        "        zip_file (str): Path to the zip file.\n",
        "        extract_path (str): Path to the directory where files will be extracted.\n",
        "    \"\"\"\n",
        "    with zipfile.ZipFile(zip_file, 'r') as zip_ref:\n",
        "        # Get the total number of files in the zip\n",
        "        total_files = len(zip_ref.infolist())\n",
        "\n",
        "        # Iterate over each file and extract with progress bar\n",
        "        for file in tqdm(zip_ref.infolist(), desc='Extracting', unit='files', total=total_files):\n",
        "            zip_ref.extract(file, extract_path)"
      ],
      "metadata": {
        "id": "wKPGXTBbMTb_"
      },
      "execution_count": 2,
      "outputs": []
    },
    {
      "cell_type": "code",
      "source": [
        "# Prompt the user to enter the path to the zip file and the extraction directory\n",
        "print(\"Please provide the path to the zip file and the extraction directory.\")\n",
        "print(\"Example zip file path: '/content/drive/My Drive/example_folder/example.zip'\")\n",
        "zip_file_path = input(\"Enter the path to the zip file: \")\n",
        "\n",
        "print(\"Example extraction directory path: '/content/drive/My Drive/example_folder'\")\n",
        "extract_path = input(\"Enter the path to the extraction directory: \")\n",
        "\n",
        "# Call the function to extract with progress tracking\n",
        "extract_with_progress(zip_file_path, extract_path)"
      ],
      "metadata": {
        "id": "1dBlX2iNMYtf"
      },
      "execution_count": null,
      "outputs": []
    }
  ]
}